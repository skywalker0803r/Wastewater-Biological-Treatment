{
  "nbformat": 4,
  "nbformat_minor": 0,
  "metadata": {
    "colab": {
      "provenance": [],
      "mount_file_id": "12V1xm02HQSjx1O9pAKw-2vLYgyJNR0vE",
      "authorship_tag": "ABX9TyOK7Xt2iLirrKOWrk26mRj2",
      "include_colab_link": true
    },
    "kernelspec": {
      "name": "python3",
      "display_name": "Python 3"
    },
    "language_info": {
      "name": "python"
    }
  },
  "cells": [
    {
      "cell_type": "markdown",
      "metadata": {
        "id": "view-in-github",
        "colab_type": "text"
      },
      "source": [
        "<a href=\"https://colab.research.google.com/github/skywalker0803r/Wastewater-Biological-Treatment/blob/main/%E8%A9%95%E4%BC%B0critic%E6%A8%A1%E5%9E%8B.ipynb\" target=\"_parent\"><img src=\"https://colab.research.google.com/assets/colab-badge.svg\" alt=\"Open In Colab\"/></a>"
      ]
    },
    {
      "cell_type": "code",
      "source": [
        "import torch\n",
        "from sklearn.metrics import r2_score, mean_squared_error, mean_absolute_percentage_error\n",
        "\n",
        "# 載入模型權重\n",
        "model = R2D2(obs_size, n_actions, hidden_size)\n",
        "model.load_state_dict(torch.load(\"model_weights.pth\"))\n",
        "\n",
        "# 將模型設定為評估模式\n",
        "model.eval()\n",
        "\n",
        "# 評估模型\n",
        "with torch.no_grad():\n",
        "    # 將測試資料傳入模型，得到預測值\n",
        "    y_pred = model.critic_forward(test_state, test_action, eval=True)\n",
        "\n",
        "    # 計算 R2 score\n",
        "    r2 = r2_score(test_value, y_pred)\n",
        "\n",
        "    # 計算 MSE\n",
        "    mse = mean_squared_error(test_value, y_pred)\n",
        "\n",
        "    # 計算 MAPE\n",
        "    mape = mean_absolute_percentage_error(test_value, y_pred)\n",
        "\n",
        "print(f\"R2 score: {r2:.4f}\")\n",
        "print(f\"MSE: {mse:.4f}\")\n",
        "print(f\"MAPE: {mape:.4f}\")\n"
      ],
      "metadata": {
        "id": "wGQR48c258wN"
      },
      "execution_count": null,
      "outputs": []
    }
  ]
}